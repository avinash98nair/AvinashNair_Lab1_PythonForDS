{
 "cells": [
  {
   "cell_type": "code",
   "execution_count": 3,
   "id": "c4e90fea-5b9c-4961-b24a-4aebbef59faa",
   "metadata": {},
   "outputs": [],
   "source": [
    "import mysql.connector\n",
    "import pandas as pd"
   ]
  },
  {
   "cell_type": "code",
   "execution_count": 5,
   "id": "b2101f67-c75a-4e18-8ecd-3bf0c149ad68",
   "metadata": {},
   "outputs": [],
   "source": [
    "connection=mysql.connector.connect(host=\"localhost\",\n",
    "                                  user=\"root\",\n",
    "                                  passwd=\"avinash270498nair\")\n",
    "\n",
    "cursorObject = connection.cursor()\n",
    "\n",
    "connection.close()"
   ]
  },
  {
   "cell_type": "code",
   "execution_count": 7,
   "id": "87070755-2764-4b85-832b-b2894276a673",
   "metadata": {},
   "outputs": [],
   "source": [
    "connection = mysql.connector.connect(host =\"localhost\",\n",
    "                                     user =\"root\",\n",
    "                                     passwd =\"avinash270498nair\")\n",
    "\n",
    "cursorObject = connection.cursor()\n",
    "\n",
    "cursorObject.execute(\"create database e_commerce\")\n",
    "\n",
    "connection.close()"
   ]
  },
  {
   "cell_type": "code",
   "execution_count": 9,
   "id": "fb204273-a1be-4325-958b-e573c2c8a42e",
   "metadata": {},
   "outputs": [],
   "source": [
    "connection = mysql.connector.connect(host =\"localhost\",\n",
    "                                     user =\"root\",\n",
    "                                     passwd =\"avinash270498nair\",\n",
    "                                     database = 'e_commerce')\n",
    " \n",
    "cursorObject = connection.cursor()"
   ]
  },
  {
   "cell_type": "code",
   "execution_count": 13,
   "id": "e853d916-c46d-4ad4-96e4-3c5f31ae91c5",
   "metadata": {},
   "outputs": [],
   "source": [
    "supplier_table_query = \"\"\"create table supplier( SUPP_ID int primary key , SUPP_NAME varchar(50),SUPP_CITY varchar(50), SUPP_Phone_NO varchar(10));\"\"\"\n",
    "cursorObject.execute(supplier_table_query)"
   ]
  },
  {
   "cell_type": "code",
   "execution_count": 15,
   "id": "38e0ee19-bf3f-4f8b-a84f-0d1af812b2e0",
   "metadata": {},
   "outputs": [],
   "source": [
    "customer_table_query = \"\"\"create table customer(CUS_ID INT NOT NULL,CUS_NAME VARCHAR (20) NULL DEFAULT NULL, CUS_PHONE VARCHAR(10),CUS_CITY VARCHAR(30),CUS_GENDER CHAR,PRIMARY KEY(CUS_ID));\"\"\"\n",
    "cursorObject.execute(customer_table_query)"
   ]
  },
  {
   "cell_type": "code",
   "execution_count": 17,
   "id": "5406b784-ef38-4445-ab75-7e0e1fdc3544",
   "metadata": {},
   "outputs": [],
   "source": [
    "category_table_query = \"\"\"create table category(CAT_Id INT NOT NULL,CAT_NAME VARCHAR(20) NULL DEFAULT NULL, PRIMARY KEY(CAT_ID));\"\"\"\n",
    "cursorObject.execute(category_table_query)"
   ]
  },
  {
   "cell_type": "code",
   "execution_count": 21,
   "id": "89718cd5-04de-4ce7-a746-8e3a6239be0d",
   "metadata": {},
   "outputs": [],
   "source": [
    "product_table_query = \"\"\"create table product(PRO_ID INT NOT NULL,PRO_NAME VARCHAR(20) NULL DEFAULT NULL,PRO_DESC VARCHAR(60) NULL DEFAULT NULL, CAT_ID INT NOT NULL,PRIMARY KEY(PRO_ID) ,FOREIGN KEY(CAT_ID) REFERENCES CATEGORY(CAT_ID));\"\"\"\n",
    "cursorObject.execute(product_table_query)"
   ]
  },
  {
   "cell_type": "code",
   "execution_count": 25,
   "id": "ab523eb3-7dab-4c95-94bf-a012302d9664",
   "metadata": {},
   "outputs": [],
   "source": [
    "product_details_table_query = \"\"\"create table product_details(PROD_ID INT NOT NULL, PRO_ID INT NOT NULL,SUPP_ID INT NOT NULL, PROD_PRICE INT NOT NULL,PRIMARY KEY(PROD_ID),FOREIGN KEY(PRO_ID) REFERENCES PRODUCT(PRO_ID), FOREIGN KEY(SUPP_ID) REFERENCES SUPPLIER(SUPP_ID));\"\"\"\n",
    "cursorObject.execute(product_details_table_query)"
   ]
  },
  {
   "cell_type": "code",
   "execution_count": 69,
   "id": "5ce98298-19c2-4eb7-8d14-7ead2a508499",
   "metadata": {},
   "outputs": [],
   "source": [
    "orders_table_query = \"\"\"create table orders(ORD_ID INT NOT NULL,ORD_AMOUNT INT NOT NULL, ORD_DATE DATE, CUS_ID INT NOT NULL, PROD_ID INT NOT NULL, PRIMARY KEY(ORD_ID),FOREIGN KEY(CUS_ID) REFERENCES CUSTOMER(CUS_ID),FOREIGN KEY(PROD_ID) REFERENCES PRODUCT_DETAILS(PROD_ID));\"\"\"\n",
    "cursorObject.execute(orders_table_query)"
   ]
  },
  {
   "cell_type": "code",
   "execution_count": 37,
   "id": "38f17036-4f04-413a-8198-16b17c97339b",
   "metadata": {},
   "outputs": [],
   "source": [
    "rating_table_query = \"\"\"create table rating(RAT_ID INT NOT NULL,CUS_ID INT NOT NULL,SUPP_ID INT NOT NULL,RAT_RATSTARS INT NOT NULL,PRIMARY KEY(RAT_ID),FOREIGN KEY(SUPP_ID) REFERENCES SUPPLIER(SUPP_ID),FOREIGN KEY(CUS_ID) REFERENCES CUSTOMER(CUS_ID));\"\"\"\n",
    "cursorObject.execute(rating_table_query)"
   ]
  },
  {
   "cell_type": "code",
   "execution_count": 39,
   "id": "66c79f63-af90-401b-bd90-7bcd570b6dbc",
   "metadata": {},
   "outputs": [],
   "source": [
    "connection.close()\n",
    "\n",
    "connection = mysql.connector.connect(host =\"localhost\",\n",
    "                                     user =\"root\",\n",
    "                                     passwd =\"avinash270498nair\",\n",
    "                                     database='e_commerce')\n",
    "\n",
    "cursorObject = connection.cursor()"
   ]
  },
  {
   "cell_type": "code",
   "execution_count": 41,
   "id": "d23945cf-9fbf-4a37-9b26-a104a22f4a84",
   "metadata": {},
   "outputs": [],
   "source": [
    "insert_supplier_details = \"\"\"INSERT INTO supplier (SUPP_ID, SUPP_NAME, SUPP_CITY, SUPP_PHONE_No)\n",
    "                             VALUES (%s, %s, %s, %s)\"\"\"\n",
    "val = [(1,\"Rajesh Retails\",\"Delhi\",'1234567890'),\n",
    "       (2,\"Appario Ltd.\",\"Mumbai\",'2589631470'),\n",
    "       (3,\"Knome products\",\"Banglore\",'9785462315'),\n",
    "       (4,\"Bansal Retails\",\"Kochi\",'8975463285'),\n",
    "       (5,\"Mittal Ltd.\",\"Lucknow\",'7898456532')]\n",
    "cursorObject.executemany(insert_supplier_details, val)\n",
    "connection.commit()"
   ]
  },
  {
   "cell_type": "code",
   "execution_count": 43,
   "id": "8920bcc5-bd87-4f99-b8da-addf824beeb9",
   "metadata": {},
   "outputs": [],
   "source": [
    "insert_customer=\"\"\"INSERT INTO CUSTOMER(CUS_ID,CUS_NAME,CUS_PHONE,CUS_CITY,CUS_GENDER)\n",
    "                   VALUES (%s,%s, %s, %s, %s)\"\"\"\n",
    "val=[(1,\"Aakash\",9999999999,\"Delhi\",\"M\"),\n",
    "    (2,\"Aman\",9785463215,\"Noida\",\"M\"),\n",
    "    (3,\"Neha\",9999999998,\"Mumbai\",\"F\"),\n",
    "    (4,\"Megha\",9994562399,\"Kolkatta\",\"F\"),\n",
    "    (5,\"Pulkit\",7895999999,\"Lucknow\",\"M\")]\n",
    "cursorObject.executemany(insert_customer, val)\n",
    "connection.commit()"
   ]
  },
  {
   "cell_type": "code",
   "execution_count": 45,
   "id": "13a2ea4d-4f90-41c8-a955-197e993ee28d",
   "metadata": {},
   "outputs": [],
   "source": [
    "insert_into_category=\"\"\"INSERT INTO CATEGORY(CAT_Id,CAT_NAME)\n",
    "                        VALUES(%s,%s)\"\"\"\n",
    "val=[(1,\"Books\"),\n",
    "    (2,\"Games\"),\n",
    "    (3,\"Groceries\"),\n",
    "    (4,\"Electronics\"),\n",
    "    (5,\"Clothes\")]\n",
    "cursorObject.executemany(insert_into_category, val)\n",
    "connection.commit()"
   ]
  },
  {
   "cell_type": "code",
   "execution_count": 81,
   "id": "38e296fc-04e1-4e96-9faa-306515d4446e",
   "metadata": {},
   "outputs": [],
   "source": [
    "insert_into_product=\"\"\"INSERT INTO PRODUCT(PRO_ID, PRO_NAME, PRO_DESC, CAT_ID) VALUES(%s,%s,%s,%s)\"\"\"\n",
    "val=[(1,\"GTA V\", \"DFJDJFDJFDJFDJFJF\", 2),\n",
    "    (2,\"T SHIRT\", \"DFDFJDFJDKFD\", 5),\n",
    "    (3,\"ROG LAPTOP\", \"DFNTTNTNTERND\", 4),\n",
    "    (4,\"OATS\", \"REURENTBTOTH\", 3),\n",
    "    (5,\"HARRY POTTER\", \"NBEMCTHTJTH\", 1)]\n",
    "cursorObject.executemany(insert_into_product, val)\n",
    "connection.commit()"
   ]
  },
  {
   "cell_type": "code",
   "execution_count": 83,
   "id": "acf97302-9663-4f76-9dcf-76c0739ccefb",
   "metadata": {},
   "outputs": [],
   "source": [
    "insert_into_product_details=\"\"\"INSERT INTO PRODUCT_DETAILS(PROD_ID, PRO_ID, SUPP_ID, PROD_PRICE)\n",
    "                        VALUES(%s,%s,%s,%s)\"\"\"\n",
    "val=[(1, 1, 2, 1500),\n",
    "    (2, 3, 5, 30000),\n",
    "    (3, 5, 1, 3000),\n",
    "    (4, 2, 3, 2500),\n",
    "    (5, 4, 1, 1000)]\n",
    "cursorObject.executemany(insert_into_product_details, val)\n",
    "connection.commit()"
   ]
  },
  {
   "cell_type": "code",
   "execution_count": 85,
   "id": "d7f553f4-4278-4ead-a5c5-7c50cb73cfbc",
   "metadata": {},
   "outputs": [],
   "source": [
    "insert_into_orders=\"\"\"INSERT INTO ORDERS(ORD_ID, ORD_AMOUNT, ORD_DATE, CUS_ID, PROD_ID) VALUES(%s,%s,%s,%s,%s)\"\"\"\n",
    "val=[(20, 1500, '2021-10-12', 3, 5),\n",
    "    (25, 30500, '2021-09-16', 5, 2),\n",
    "    (26, 2000, '2021-10-05', 1, 1),\n",
    "    (30, 3500, '2021-08-16', 4, 3),\n",
    "    (5030, 2000, '2021-10-06', 2, 1)]\n",
    "cursorObject.executemany(insert_into_orders, val)\n",
    "connection.commit()"
   ]
  },
  {
   "cell_type": "code",
   "execution_count": 111,
   "id": "76c278a0-e4b3-4606-a736-e3469698af92",
   "metadata": {},
   "outputs": [],
   "source": [
    "insert_into_rating=\"\"\"INSERT INTO RATING(RAT_ID, CUS_ID, SUPP_ID, RAT_RATSTARS) VALUES(%s,%s,%s,%s)\"\"\"\n",
    "val=[(1, 2, 2, 4),\n",
    "    (2, 3, 4, 3),\n",
    "    (3, 5, 1, 5),\n",
    "    (4, 1, 3, 2),\n",
    "    (5, 4, 5, 4)]\n",
    "cursorObject.executemany(insert_into_rating, val)\n",
    "connection.commit()"
   ]
  },
  {
   "cell_type": "code",
   "execution_count": 97,
   "id": "6c8b700a-5866-4752-ac57-7c7bf28adcbc",
   "metadata": {},
   "outputs": [
    {
     "data": {
      "text/html": [
       "<div>\n",
       "<style scoped>\n",
       "    .dataframe tbody tr th:only-of-type {\n",
       "        vertical-align: middle;\n",
       "    }\n",
       "\n",
       "    .dataframe tbody tr th {\n",
       "        vertical-align: top;\n",
       "    }\n",
       "\n",
       "    .dataframe thead th {\n",
       "        text-align: right;\n",
       "    }\n",
       "</style>\n",
       "<table border=\"1\" class=\"dataframe\">\n",
       "  <thead>\n",
       "    <tr style=\"text-align: right;\">\n",
       "      <th></th>\n",
       "      <th>CUS_GENDER</th>\n",
       "      <th>NUM_CUSTOMERS</th>\n",
       "    </tr>\n",
       "  </thead>\n",
       "  <tbody>\n",
       "    <tr>\n",
       "      <th>0</th>\n",
       "      <td>F</td>\n",
       "      <td>1</td>\n",
       "    </tr>\n",
       "    <tr>\n",
       "      <th>1</th>\n",
       "      <td>M</td>\n",
       "      <td>1</td>\n",
       "    </tr>\n",
       "  </tbody>\n",
       "</table>\n",
       "</div>"
      ],
      "text/plain": [
       "  CUS_GENDER  NUM_CUSTOMERS\n",
       "0          F              1\n",
       "1          M              1"
      ]
     },
     "execution_count": 97,
     "metadata": {},
     "output_type": "execute_result"
    }
   ],
   "source": [
    "question_three = \"\"\"\n",
    "SELECT C.CUS_GENDER, COUNT(DISTINCT C.CUS_ID) AS NUM_CUSTOMERS\n",
    "FROM CUSTOMER AS C\n",
    "INNER JOIN ORDERS AS O ON C.CUS_ID = O.CUS_ID\n",
    "WHERE O.ORD_AMOUNT >= 3000\n",
    "GROUP BY C.CUS_GENDER;\n",
    "\"\"\"\n",
    "                \n",
    "cursorObject.execute(question_three)\n",
    " \n",
    "output = cursorObject.fetchall()\n",
    "\n",
    "output_df = pd.DataFrame(output, columns=['CUS_GENDER', 'NUM_CUSTOMERS'])\n",
    "output_df"
   ]
  },
  {
   "cell_type": "code",
   "execution_count": 99,
   "id": "edfde38f-86e8-477f-9c7b-b742827c17b6",
   "metadata": {},
   "outputs": [
    {
     "data": {
      "text/html": [
       "<div>\n",
       "<style scoped>\n",
       "    .dataframe tbody tr th:only-of-type {\n",
       "        vertical-align: middle;\n",
       "    }\n",
       "\n",
       "    .dataframe tbody tr th {\n",
       "        vertical-align: top;\n",
       "    }\n",
       "\n",
       "    .dataframe thead th {\n",
       "        text-align: right;\n",
       "    }\n",
       "</style>\n",
       "<table border=\"1\" class=\"dataframe\">\n",
       "  <thead>\n",
       "    <tr style=\"text-align: right;\">\n",
       "      <th></th>\n",
       "      <th>ORD_ID</th>\n",
       "      <th>ORD_AMOUNT</th>\n",
       "      <th>ORD_DATE</th>\n",
       "      <th>CUS_ID</th>\n",
       "      <th>PROD_ID</th>\n",
       "      <th>PRO_NAME</th>\n",
       "    </tr>\n",
       "  </thead>\n",
       "  <tbody>\n",
       "    <tr>\n",
       "      <th>0</th>\n",
       "      <td>5030</td>\n",
       "      <td>2000</td>\n",
       "      <td>2021-10-06</td>\n",
       "      <td>2</td>\n",
       "      <td>1</td>\n",
       "      <td>GTA V</td>\n",
       "    </tr>\n",
       "  </tbody>\n",
       "</table>\n",
       "</div>"
      ],
      "text/plain": [
       "   ORD_ID  ORD_AMOUNT    ORD_DATE  CUS_ID  PROD_ID PRO_NAME\n",
       "0    5030        2000  2021-10-06       2        1    GTA V"
      ]
     },
     "execution_count": 99,
     "metadata": {},
     "output_type": "execute_result"
    }
   ],
   "source": [
    "question_four=\"\"\"select O.*,B.PRO_NAME from Orders as O inner join\n",
    "                (SELECT product.PRO_ID, product.PRO_NAME,PD.PROD_ID\n",
    "                 FROM product\n",
    "                 INNER JOIN product_details as PD on product.PRO_ID=PD.PRO_ID) as B\n",
    "                 on O.PROD_ID=B.PROD_ID\n",
    "                 WHERE O.CUS_ID=2\"\"\"\n",
    "cursorObject.execute(question_four)\n",
    " \n",
    "output = cursorObject.fetchall()\n",
    "\n",
    "output_df = pd.DataFrame(output, columns=['ORD_ID','ORD_AMOUNT','ORD_DATE','CUS_ID','PROD_ID','PRO_NAME'])\n",
    "output_df"
   ]
  },
  {
   "cell_type": "code",
   "execution_count": 101,
   "id": "2cd12137-eb3c-4c73-976c-637abae3a77b",
   "metadata": {},
   "outputs": [
    {
     "data": {
      "text/html": [
       "<div>\n",
       "<style scoped>\n",
       "    .dataframe tbody tr th:only-of-type {\n",
       "        vertical-align: middle;\n",
       "    }\n",
       "\n",
       "    .dataframe tbody tr th {\n",
       "        vertical-align: top;\n",
       "    }\n",
       "\n",
       "    .dataframe thead th {\n",
       "        text-align: right;\n",
       "    }\n",
       "</style>\n",
       "<table border=\"1\" class=\"dataframe\">\n",
       "  <thead>\n",
       "    <tr style=\"text-align: right;\">\n",
       "      <th></th>\n",
       "      <th>SUPP_ID</th>\n",
       "      <th>SUPP_NAME</th>\n",
       "      <th>SUPP_CITY</th>\n",
       "      <th>SUPP_PHONE_NO</th>\n",
       "      <th>PRO_ID</th>\n",
       "    </tr>\n",
       "  </thead>\n",
       "  <tbody>\n",
       "    <tr>\n",
       "      <th>0</th>\n",
       "      <td>1</td>\n",
       "      <td>Rajesh Retails</td>\n",
       "      <td>Delhi</td>\n",
       "      <td>1234567890</td>\n",
       "      <td>1</td>\n",
       "    </tr>\n",
       "  </tbody>\n",
       "</table>\n",
       "</div>"
      ],
      "text/plain": [
       "   SUPP_ID       SUPP_NAME SUPP_CITY SUPP_PHONE_NO  PRO_ID\n",
       "0        1  Rajesh Retails     Delhi    1234567890       1"
      ]
     },
     "execution_count": 101,
     "metadata": {},
     "output_type": "execute_result"
    }
   ],
   "source": [
    "question_five=\"\"\"select * from supplier as S inner join\n",
    "                 (select PD.SUPP_ID from product_details as PD\n",
    "                 group by PD.SUPP_ID having count(distinct PD.PRO_ID)>1)\n",
    "                 as B on S.SUPP_ID=B.SUPP_ID\"\"\"\n",
    "cursorObject.execute(question_five)\n",
    " \n",
    "output = cursorObject.fetchall()\n",
    "\n",
    "output_df = pd.DataFrame(output, columns=['SUPP_ID','SUPP_NAME','SUPP_CITY','SUPP_PHONE_NO','PRO_ID'])\n",
    "output_df"
   ]
  },
  {
   "cell_type": "code",
   "execution_count": 105,
   "id": "68107a1d-cc7b-4857-8aa1-1ab75bfe3d04",
   "metadata": {},
   "outputs": [
    {
     "data": {
      "text/html": [
       "<div>\n",
       "<style scoped>\n",
       "    .dataframe tbody tr th:only-of-type {\n",
       "        vertical-align: middle;\n",
       "    }\n",
       "\n",
       "    .dataframe tbody tr th {\n",
       "        vertical-align: top;\n",
       "    }\n",
       "\n",
       "    .dataframe thead th {\n",
       "        text-align: right;\n",
       "    }\n",
       "</style>\n",
       "<table border=\"1\" class=\"dataframe\">\n",
       "  <thead>\n",
       "    <tr style=\"text-align: right;\">\n",
       "      <th></th>\n",
       "      <th>CAT_ID</th>\n",
       "      <th>CAT_NAME</th>\n",
       "      <th>MIN_ORDER</th>\n",
       "      <th>PRO_ID</th>\n",
       "    </tr>\n",
       "  </thead>\n",
       "  <tbody>\n",
       "    <tr>\n",
       "      <th>0</th>\n",
       "      <td>1</td>\n",
       "      <td>Books</td>\n",
       "      <td>3500</td>\n",
       "      <td>5</td>\n",
       "    </tr>\n",
       "    <tr>\n",
       "      <th>1</th>\n",
       "      <td>2</td>\n",
       "      <td>Games</td>\n",
       "      <td>2000</td>\n",
       "      <td>1</td>\n",
       "    </tr>\n",
       "    <tr>\n",
       "      <th>2</th>\n",
       "      <td>3</td>\n",
       "      <td>Groceries</td>\n",
       "      <td>1500</td>\n",
       "      <td>4</td>\n",
       "    </tr>\n",
       "    <tr>\n",
       "      <th>3</th>\n",
       "      <td>4</td>\n",
       "      <td>Electronics</td>\n",
       "      <td>30500</td>\n",
       "      <td>3</td>\n",
       "    </tr>\n",
       "  </tbody>\n",
       "</table>\n",
       "</div>"
      ],
      "text/plain": [
       "   CAT_ID     CAT_NAME  MIN_ORDER  PRO_ID\n",
       "0       1        Books       3500       5\n",
       "1       2        Games       2000       1\n",
       "2       3    Groceries       1500       4\n",
       "3       4  Electronics      30500       3"
      ]
     },
     "execution_count": 105,
     "metadata": {},
     "output_type": "execute_result"
    }
   ],
   "source": [
    "question_six = \"\"\"\n",
    "SELECT K.*, MIN_ORDER, P.PRO_ID \n",
    "FROM category AS K \n",
    "INNER JOIN (\n",
    "    SELECT P.CAT_ID, Q.PRO_ID, MIN(Q.MIN_ORDER) AS MIN_ORDER\n",
    "    FROM product AS P \n",
    "    INNER JOIN (\n",
    "        SELECT PD.PRO_ID, MIN(O.ORD_AMOUNT) AS MIN_ORDER \n",
    "        FROM product_details AS PD \n",
    "        INNER JOIN orders AS O ON PD.PROD_ID = O.PROD_ID \n",
    "        GROUP BY PD.PRO_ID\n",
    "    ) AS Q ON P.PRO_ID = Q.PRO_ID \n",
    "    GROUP BY P.CAT_ID, P.PRO_ID\n",
    ") AS P ON K.CAT_ID = P.CAT_ID\n",
    "\"\"\"\n",
    "cursorObject.execute(question_six)\n",
    " \n",
    "output = cursorObject.fetchall()\n",
    "   \n",
    "output_df = pd.DataFrame(output, columns=['CAT_ID','CAT_NAME','MIN_ORDER','PRO_ID'])\n",
    "output_df"
   ]
  },
  {
   "cell_type": "code",
   "execution_count": 107,
   "id": "dcf5a3a3-0922-4581-b3e2-52e0e72bf8a2",
   "metadata": {},
   "outputs": [
    {
     "data": {
      "text/html": [
       "<div>\n",
       "<style scoped>\n",
       "    .dataframe tbody tr th:only-of-type {\n",
       "        vertical-align: middle;\n",
       "    }\n",
       "\n",
       "    .dataframe tbody tr th {\n",
       "        vertical-align: top;\n",
       "    }\n",
       "\n",
       "    .dataframe thead th {\n",
       "        text-align: right;\n",
       "    }\n",
       "</style>\n",
       "<table border=\"1\" class=\"dataframe\">\n",
       "  <thead>\n",
       "    <tr style=\"text-align: right;\">\n",
       "      <th></th>\n",
       "      <th>PRO_ID</th>\n",
       "      <th>PRO_NAME</th>\n",
       "      <th>ORD_DATE</th>\n",
       "    </tr>\n",
       "  </thead>\n",
       "  <tbody>\n",
       "    <tr>\n",
       "      <th>0</th>\n",
       "      <td>4</td>\n",
       "      <td>OATS</td>\n",
       "      <td>2021-10-12</td>\n",
       "    </tr>\n",
       "    <tr>\n",
       "      <th>1</th>\n",
       "      <td>1</td>\n",
       "      <td>GTA V</td>\n",
       "      <td>2021-10-06</td>\n",
       "    </tr>\n",
       "  </tbody>\n",
       "</table>\n",
       "</div>"
      ],
      "text/plain": [
       "   PRO_ID PRO_NAME    ORD_DATE\n",
       "0       4     OATS  2021-10-12\n",
       "1       1    GTA V  2021-10-06"
      ]
     },
     "execution_count": 107,
     "metadata": {},
     "output_type": "execute_result"
    }
   ],
   "source": [
    "question_seven=\"\"\"select P.PRO_ID,P.PRO_NAME,Q.ORD_DATE from product as P inner join\n",
    "                 (select PD.PRO_ID,B.ORD_DATE FROM product_details as PD inner join\n",
    "                 (select O.ORD_DATE,O.PROD_ID from orders as O where\n",
    "                 O.ORD_DATE>'2021-10-05') as B\n",
    "                 where PD.PROD_ID=B.PROD_ID) as Q\n",
    "                 ON P.PRO_ID=Q.PRO_ID\"\"\"\n",
    "\n",
    "cursorObject.execute(question_seven)\n",
    " \n",
    "output = cursorObject.fetchall()\n",
    "    \n",
    "output_df = pd.DataFrame(output, columns=['PRO_ID','PRO_NAME','ORD_DATE'])\n",
    "output_df"
   ]
  },
  {
   "cell_type": "code",
   "execution_count": 113,
   "id": "3032399e-f23c-4a1a-83cb-b0f8dcaa896f",
   "metadata": {},
   "outputs": [
    {
     "data": {
      "text/html": [
       "<div>\n",
       "<style scoped>\n",
       "    .dataframe tbody tr th:only-of-type {\n",
       "        vertical-align: middle;\n",
       "    }\n",
       "\n",
       "    .dataframe tbody tr th {\n",
       "        vertical-align: top;\n",
       "    }\n",
       "\n",
       "    .dataframe thead th {\n",
       "        text-align: right;\n",
       "    }\n",
       "</style>\n",
       "<table border=\"1\" class=\"dataframe\">\n",
       "  <thead>\n",
       "    <tr style=\"text-align: right;\">\n",
       "      <th></th>\n",
       "      <th>CUS_ID</th>\n",
       "      <th>CUS_NAME</th>\n",
       "      <th>SUPP_NAME</th>\n",
       "      <th>SUPP_ID</th>\n",
       "      <th>RAT_RATSTARS</th>\n",
       "    </tr>\n",
       "  </thead>\n",
       "  <tbody>\n",
       "    <tr>\n",
       "      <th>0</th>\n",
       "      <td>Pulkit</td>\n",
       "      <td>5</td>\n",
       "      <td>Rajesh Retails</td>\n",
       "      <td>1</td>\n",
       "      <td>5</td>\n",
       "    </tr>\n",
       "    <tr>\n",
       "      <th>1</th>\n",
       "      <td>Aman</td>\n",
       "      <td>2</td>\n",
       "      <td>Appario Ltd.</td>\n",
       "      <td>2</td>\n",
       "      <td>4</td>\n",
       "    </tr>\n",
       "    <tr>\n",
       "      <th>2</th>\n",
       "      <td>Megha</td>\n",
       "      <td>4</td>\n",
       "      <td>Mittal Ltd.</td>\n",
       "      <td>5</td>\n",
       "      <td>4</td>\n",
       "    </tr>\n",
       "  </tbody>\n",
       "</table>\n",
       "</div>"
      ],
      "text/plain": [
       "   CUS_ID  CUS_NAME       SUPP_NAME  SUPP_ID  RAT_RATSTARS\n",
       "0  Pulkit         5  Rajesh Retails        1             5\n",
       "1    Aman         2    Appario Ltd.        2             4\n",
       "2   Megha         4     Mittal Ltd.        5             4"
      ]
     },
     "execution_count": 113,
     "metadata": {},
     "output_type": "execute_result"
    }
   ],
   "source": [
    "question_eight=\"\"\"select C.CUS_NAME,C.CUS_ID,P.SUPP_NAME,P.SUPP_ID,P.RAT_RATSTARS FROM customer as C inner join\n",
    "                 (select S.SUPP_ID,S.SUPP_NAME,Q.CUS_ID,Q.RAT_RATSTARS FROM supplier as S inner join\n",
    "                 (select * from rating as R order by R.RAT_RATSTARS desc limit 3)as Q\n",
    "                  on S.SUPP_ID=Q.SUPP_ID) as P\n",
    "                  on C.CUS_ID=P.CUS_ID\"\"\"\n",
    "cursorObject.execute(question_eight)\n",
    " \n",
    "output = cursorObject.fetchall()\n",
    "   \n",
    "output_df = pd.DataFrame(output, columns=['CUS_ID','CUS_NAME','SUPP_NAME','SUPP_ID','RAT_RATSTARS'])\n",
    "output_df"
   ]
  },
  {
   "cell_type": "code",
   "execution_count": 115,
   "id": "402df88e-ede6-4898-b20e-3ad6bdd0c45d",
   "metadata": {},
   "outputs": [
    {
     "data": {
      "text/html": [
       "<div>\n",
       "<style scoped>\n",
       "    .dataframe tbody tr th:only-of-type {\n",
       "        vertical-align: middle;\n",
       "    }\n",
       "\n",
       "    .dataframe tbody tr th {\n",
       "        vertical-align: top;\n",
       "    }\n",
       "\n",
       "    .dataframe thead th {\n",
       "        text-align: right;\n",
       "    }\n",
       "</style>\n",
       "<table border=\"1\" class=\"dataframe\">\n",
       "  <thead>\n",
       "    <tr style=\"text-align: right;\">\n",
       "      <th></th>\n",
       "      <th>CUS_NAME</th>\n",
       "      <th>CUS_GENDER</th>\n",
       "    </tr>\n",
       "  </thead>\n",
       "  <tbody>\n",
       "    <tr>\n",
       "      <th>0</th>\n",
       "      <td>Aakash</td>\n",
       "      <td>M</td>\n",
       "    </tr>\n",
       "    <tr>\n",
       "      <th>1</th>\n",
       "      <td>Aman</td>\n",
       "      <td>M</td>\n",
       "    </tr>\n",
       "    <tr>\n",
       "      <th>2</th>\n",
       "      <td>Neha</td>\n",
       "      <td>F</td>\n",
       "    </tr>\n",
       "    <tr>\n",
       "      <th>3</th>\n",
       "      <td>Megha</td>\n",
       "      <td>F</td>\n",
       "    </tr>\n",
       "  </tbody>\n",
       "</table>\n",
       "</div>"
      ],
      "text/plain": [
       "  CUS_NAME CUS_GENDER\n",
       "0   Aakash          M\n",
       "1     Aman          M\n",
       "2     Neha          F\n",
       "3    Megha          F"
      ]
     },
     "execution_count": 115,
     "metadata": {},
     "output_type": "execute_result"
    }
   ],
   "source": [
    "question_nine=\"\"\"select CUS_NAME,CUS_GENDER FROM customer where CUS_NAME LIKE 'A%' OR CUS_NAME LIKE '%A'\"\"\"\n",
    "\n",
    "cursorObject.execute(question_nine)\n",
    " \n",
    "output = cursorObject.fetchall()\n",
    "   \n",
    "output_df = pd.DataFrame(output, columns=['CUS_NAME','CUS_GENDER'])\n",
    "output_df"
   ]
  },
  {
   "cell_type": "code",
   "execution_count": null,
   "id": "81c2fbfc-1cc7-4487-9d67-2f9474bdf4f2",
   "metadata": {},
   "outputs": [],
   "source": [
    "question_ten=\"\"\"select sum(Q.ORD_AMOUNT) AS Total_Order_Amount,C.CUS_GENDER from customer as C inner join\n",
    "                (select O.CUS_ID,O.ORD_AMOUNT from Orders as O)as Q\n",
    "                 on C.CUS_ID=Q.CUS_ID\n",
    "                 WHERE C.CUS_GENDER='M'\"\"\"\n",
    "cursorObject.execute(question_ten)\n",
    " \n",
    "output = cursorObject.fetchall()\n",
    "   \n",
    "output_df = pd.DataFrame(output, columns=['Total_Order_Amount','CUS_GENDER'])\n",
    "output_df"
   ]
  }
 ],
 "metadata": {
  "kernelspec": {
   "display_name": "Python 3 (ipykernel)",
   "language": "python",
   "name": "python3"
  },
  "language_info": {
   "codemirror_mode": {
    "name": "ipython",
    "version": 3
   },
   "file_extension": ".py",
   "mimetype": "text/x-python",
   "name": "python",
   "nbconvert_exporter": "python",
   "pygments_lexer": "ipython3",
   "version": "3.12.7"
  }
 },
 "nbformat": 4,
 "nbformat_minor": 5
}
